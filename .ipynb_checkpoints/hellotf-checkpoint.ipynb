{
 "cells": [
  {
   "cell_type": "code",
   "execution_count": 1,
   "metadata": {
    "collapsed": true
   },
   "outputs": [],
   "source": [
    "import tensorflow as tf\n",
    "sess = tf.Session()"
   ]
  },
  {
   "cell_type": "code",
   "execution_count": 2,
   "metadata": {
    "collapsed": true
   },
   "outputs": [],
   "source": [
    "graph = tf.get_default_graph()"
   ]
  },
  {
   "cell_type": "code",
   "execution_count": 3,
   "metadata": {
    "collapsed": false
   },
   "outputs": [
    {
     "name": "stdout",
     "output_type": "stream",
     "text": [
      "[]\n"
     ]
    }
   ],
   "source": [
    "print graph.get_operations()"
   ]
  },
  {
   "cell_type": "code",
   "execution_count": 4,
   "metadata": {
    "collapsed": true
   },
   "outputs": [],
   "source": [
    "input_value = tf.constant(1.0)"
   ]
  },
  {
   "cell_type": "code",
   "execution_count": 5,
   "metadata": {
    "collapsed": false
   },
   "outputs": [
    {
     "name": "stdout",
     "output_type": "stream",
     "text": [
      "[<tensorflow.python.framework.ops.Operation object at 0x7f2c251084d0>]\n",
      "name: \"Const\"\n",
      "op: \"Const\"\n",
      "attr {\n",
      "  key: \"dtype\"\n",
      "  value {\n",
      "    type: DT_FLOAT\n",
      "  }\n",
      "}\n",
      "attr {\n",
      "  key: \"value\"\n",
      "  value {\n",
      "    tensor {\n",
      "      dtype: DT_FLOAT\n",
      "      tensor_shape {\n",
      "      }\n",
      "      float_val: 1.0\n",
      "    }\n",
      "  }\n",
      "}\n",
      "\n",
      "Tensor(\"Const:0\", shape=(), dtype=float32)\n"
     ]
    }
   ],
   "source": [
    "print graph.get_operations()\n",
    "print graph.get_operations()[0].node_def\n",
    "print input_value"
   ]
  },
  {
   "cell_type": "code",
   "execution_count": 6,
   "metadata": {
    "collapsed": false
   },
   "outputs": [
    {
     "name": "stdout",
     "output_type": "stream",
     "text": [
      "Const\n",
      "Variable/initial_value\n",
      "Variable\n",
      "Variable/Assign\n",
      "Variable/read\n"
     ]
    }
   ],
   "source": [
    "weight = tf.Variable(0.8) #use variable instead of constant!\n",
    "#variabels support more ops than constants!\n",
    "for op in graph.get_operations(): print op.name"
   ]
  },
  {
   "cell_type": "code",
   "execution_count": 7,
   "metadata": {
    "collapsed": false
   },
   "outputs": [
    {
     "name": "stdout",
     "output_type": "stream",
     "text": [
      "mul\n",
      "Tensor(\"Variable/read:0\", shape=(), dtype=float32)\n",
      "Tensor(\"Const:0\", shape=(), dtype=float32)\n"
     ]
    }
   ],
   "source": [
    "output = weight * input_value\n",
    "# multiplication operation\n",
    "print graph.get_operations()[-1].name\n",
    "# input values for mul_op.\n",
    "for inp in graph.get_operations()[-1].inputs: print inp"
   ]
  },
  {
   "cell_type": "code",
   "execution_count": 8,
   "metadata": {
    "collapsed": false
   },
   "outputs": [
    {
     "name": "stdout",
     "output_type": "stream",
     "text": [
      "1.0\n",
      "Variables have to be initialized first!\n",
      "0.8\n",
      "0.8\n"
     ]
    }
   ],
   "source": [
    "# Constants do not need be initialized!\n",
    "print sess.run(input_value)\n",
    "try:\n",
    "    print sess.run(weight)\n",
    "except:\n",
    "    print \"Variables have to be initialized first!\"\n",
    "init = tf.initialize_all_variables()\n",
    "sess.run(init)\n",
    "print sess.run(weight)\n",
    "print sess.run(output)\n"
   ]
  },
  {
   "cell_type": "code",
   "execution_count": 9,
   "metadata": {
    "collapsed": false
   },
   "outputs": [
    {
     "name": "stdout",
     "output_type": "stream",
     "text": [
      "input\n",
      "weight/initial_value\n",
      "weight\n",
      "weight/Assign\n",
      "weight/read\n",
      "output\n"
     ]
    }
   ],
   "source": [
    "# clear graph of all nodes\n",
    "tf.reset_default_graph()\n",
    "sess = tf.Session()\n",
    "for op in tf.get_default_graph().get_operations(): print op\n",
    "# redefine constants / variables with name field for tensorboard\n",
    "x = tf.constant(1.0, name=\"input\")\n",
    "w = tf.Variable(0.8, name=\"weight\")\n",
    "y = tf.mul(w, x, name=\"output\")\n",
    "for op in tf.get_default_graph().get_operations(): print op.name\n",
    "# generate output folder for tensorboard\n",
    "summary_writer = tf.train.SummaryWriter(\"log_simple_graph\", sess.graph)"
   ]
  },
  {
   "cell_type": "code",
   "execution_count": 10,
   "metadata": {
    "collapsed": false
   },
   "outputs": [
    {
     "name": "stdout",
     "output_type": "stream",
     "text": [
      "[1.6, 0.80000001]\n",
      "0.76\n"
     ]
    }
   ],
   "source": [
    "# expected output\n",
    "y_ = tf.constant(0.0, name=\"expected\")\n",
    "# simple loss function\n",
    "loss = (y - y_) ** 2\n",
    "# GDO automatically does backprob and gets the gradients.\n",
    "optim = tf.train.GradientDescentOptimizer(learning_rate=0.025)\n",
    "# compute gradients\n",
    "grads_and_vars = optim.compute_gradients(loss)\n",
    "sess.run(tf.initialize_all_variables())\n",
    "print sess.run(grads_and_vars[0])\n",
    "# do the actual learning\n",
    "sess.run(optim.apply_gradients(grads_and_vars))\n",
    "# w should be < 0.8\n",
    "print sess.run(w)\n"
   ]
  },
  {
   "cell_type": "code",
   "execution_count": 11,
   "metadata": {
    "collapsed": false
   },
   "outputs": [
    {
     "name": "stdout",
     "output_type": "stream",
     "text": [
      "0.0044996\n",
      "0.0044996\n"
     ]
    }
   ],
   "source": [
    "# more compact version of the above:\n",
    "train_step = tf.train.GradientDescentOptimizer(learning_rate=0.025).minimize(loss)\n",
    "# diagnostics for tensorboard\n",
    "summary_y = tf.scalar_summary(\"output\", y)\n",
    "for i in range(100):\n",
    "    summary_str = sess.run(summary_y)\n",
    "    summary_writer.add_summary(summary_str, i)\n",
    "    sess.run(train_step)\n",
    "    \n",
    "print sess.run(w)\n",
    "print sess.run(y)"
   ]
  }
 ],
 "metadata": {
  "kernelspec": {
   "display_name": "Python 2",
   "language": "python",
   "name": "python2"
  },
  "language_info": {
   "codemirror_mode": {
    "name": "ipython",
    "version": 2
   },
   "file_extension": ".py",
   "mimetype": "text/x-python",
   "name": "python",
   "nbconvert_exporter": "python",
   "pygments_lexer": "ipython2",
   "version": "2.7.11+"
  }
 },
 "nbformat": 4,
 "nbformat_minor": 0
}
